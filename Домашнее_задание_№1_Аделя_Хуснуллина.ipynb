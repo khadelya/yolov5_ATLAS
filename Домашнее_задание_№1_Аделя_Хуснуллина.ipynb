{
  "nbformat": 4,
  "nbformat_minor": 0,
  "metadata": {
    "colab": {
      "provenance": [],
      "collapsed_sections": [],
      "include_colab_link": true
    },
    "kernelspec": {
      "name": "python3",
      "display_name": "Python 3"
    },
    "language_info": {
      "name": "python"
    }
  },
  "cells": [
    {
      "cell_type": "markdown",
      "metadata": {
        "id": "view-in-github",
        "colab_type": "text"
      },
      "source": [
        "<a href=\"https://colab.research.google.com/github/khadelya/yolov5_ATLAS/blob/master/%D0%94%D0%BE%D0%BC%D0%B0%D1%88%D0%BD%D0%B5%D0%B5_%D0%B7%D0%B0%D0%B4%D0%B0%D0%BD%D0%B8%D0%B5_%E2%84%961_%D0%90%D0%B4%D0%B5%D0%BB%D1%8F_%D0%A5%D1%83%D1%81%D0%BD%D1%83%D0%BB%D0%BB%D0%B8%D0%BD%D0%B0.ipynb\" target=\"_parent\"><img src=\"https://colab.research.google.com/assets/colab-badge.svg\" alt=\"Open In Colab\"/></a>"
      ]
    },
    {
      "cell_type": "markdown",
      "source": [
        "Используя цикл for:\n",
        "  Скачать 100 вакансий ( регион-Москва, название вакансии - Аналитик), поля name и salary в два отдельных списка (list)\n",
        "\n",
        "Используя цикл while:\n",
        "  Скачать 100 вакансий (регион-Санкт-Петербург, название вакансии - Аналитик), поля name и salary   в два отдельных списка (list)\n",
        "  \n",
        "Используя любой из видов цикла - создать список названий вакансий, больших по зп в Санкт-Петербурге чем, в Москве. Для оценки зарплаты брать нижнюю границу (from), очищенную от налога (-13%), и пересчитанную с учетом курса валют в рубли. \n",
        "\n",
        "Вывести длину списка, и самую высокоплачиваемую вакансию, с указанием названия и зп, из него, используя команду print\n"
      ],
      "metadata": {
        "id": "VfrI2BgWyuIf"
      }
    },
    {
      "cell_type": "code",
      "source": [
        "import requests"
      ],
      "metadata": {
        "id": "AjSdds0my08y"
      },
      "execution_count": null,
      "outputs": []
    },
    {
      "cell_type": "code",
      "source": [
        "def is_vacancy_valid(vacancy):\n",
        "  if vacancy['salary'] is None:\n",
        "    return False\n",
        "  salary = vacancy['salary']\n",
        "  if salary['from'] is None:\n",
        "    return False\n",
        "  return True"
      ],
      "metadata": {
        "id": "k8krGrxJfPU4"
      },
      "execution_count": null,
      "outputs": []
    },
    {
      "cell_type": "code",
      "source": [
        "msc_names=[]\n",
        "msc_salaries=[]\n",
        "url=\"https://api.hh.ru/vacancies?text=Аналитик&area=1&search_field=name&per_page=100\"\n",
        "items=requests.get(url).json()['items']\n",
        "for item in items:\n",
        "  if is_vacancy_valid(item):\n",
        "    msc_names+=[item['name']]\n",
        "    msc_salaries+=[item['salary']] "
      ],
      "metadata": {
        "id": "9aKUKNd5zxEO"
      },
      "execution_count": null,
      "outputs": []
    },
    {
      "cell_type": "code",
      "source": [
        "spb_names=[]\n",
        "spb_salaries=[]\n",
        "url=\"https://api.hh.ru/vacancies?text=Аналитик&area=2&search_field=name&per_page=100\"\n",
        "items=requests.get(url).json()['items']\n",
        "n=0\n",
        "while n<len(items):\n",
        "  item = items[n]\n",
        "  if is_vacancy_valid(item):\n",
        "    spb_names+=[item['name']]\n",
        "    spb_salaries+=[item['salary']] \n",
        "  n+=1"
      ],
      "metadata": {
        "id": "nwVi3Kmg2sV0"
      },
      "execution_count": null,
      "outputs": []
    },
    {
      "cell_type": "code",
      "source": [
        "def get_salary_clean(salary):\n",
        "  if salary['currency']=='RUR':\n",
        "    coef=1\n",
        "  else:\n",
        "    url=\"https://v6.exchangerate-api.com/v6/cc1614fb1c963ca32ced8635/latest/{}\".format(salary['currency'])\n",
        "    exchange_rate=requests.get(url).json()\n",
        "    coef=exchange_rate['conversion_rates']['RUB']\n",
        "  if salary['gross']==True:\n",
        "    net=0.87\n",
        "  else:\n",
        "    net=1\n",
        "  salary_clean=round(salary['from']*coef*net,2)\n",
        "  return salary_clean"
      ],
      "metadata": {
        "id": "ZEdYgMoxJ_1W"
      },
      "execution_count": null,
      "outputs": []
    },
    {
      "cell_type": "code",
      "source": [
        "spb_over_msc={}\n",
        "for i in range(len(spb_names)):\n",
        "  val=''\n",
        "  for j in range(len(msc_names)):\n",
        "    if spb_names[i]==msc_names[j]:\n",
        "      spb_salary=get_salary_clean(spb_salaries[i])\n",
        "      msc_salary=get_salary_clean(msc_salaries[j])\n",
        "      if spb_salary>msc_salary:\n",
        "        val+='True'\n",
        "      else:\n",
        "        val+='False'\n",
        "  if not ('False' in val or val==''):\n",
        "    spb_over_msc[spb_names[i]]=spb_salary"
      ],
      "metadata": {
        "id": "DcX8tzxr6mvF"
      },
      "execution_count": null,
      "outputs": []
    },
    {
      "cell_type": "code",
      "source": [
        "if spb_over_msc:\n",
        "  spb_over_msc_sorted=sorted(spb_over_msc.items(), key=lambda item: item[1])\n",
        "  lenght=len(spb_over_msc_sorted)\n",
        "  highest_vacancy=list(spb_over_msc_sorted)[-1]\n",
        "  print(f\"Длина списка: {lenght}\")\n",
        "  print(f\"Название самой высокооплачиваемой вакансии: {highest_vacancy[0]}, зарплата: {highest_vacancy[1]} руб.\")\n",
        "else:\n",
        "  print(\"В скачанных вакансиях нет таких, чтобы при одинаковом названии зарплата в Санкт-Петербурге была больше чем, в Москве.\")"
      ],
      "metadata": {
        "id": "moaoqPiEumLW",
        "colab": {
          "base_uri": "https://localhost:8080/"
        },
        "outputId": "2f4e113e-c69c-4839-dc98-48e02011a49e"
      },
      "execution_count": null,
      "outputs": [
        {
          "output_type": "stream",
          "name": "stdout",
          "text": [
            "Длина списка: 2\n",
            "Название самой высокооплачиваемой вакансии: Финансовый аналитик, зарплата: 100000 руб.\n"
          ]
        }
      ]
    }
  ]
}